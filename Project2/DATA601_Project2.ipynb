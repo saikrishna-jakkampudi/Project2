{
  "nbformat": 4,
  "nbformat_minor": 5,
  "metadata": {
    "kernelspec": {
      "display_name": "Python 3",
      "language": "python",
      "name": "python3"
    },
    "language_info": {
      "codemirror_mode": {
        "name": "ipython",
        "version": 3
      },
      "file_extension": ".py",
      "mimetype": "text/x-python",
      "name": "python",
      "nbconvert_exporter": "python",
      "pygments_lexer": "ipython3",
      "version": "3.8.8"
    },
    "colab": {
      "name": "DATA601_Project2.ipynb",
      "provenance": [],
      "include_colab_link": true
    }
  },
  "cells": [
    {
      "cell_type": "markdown",
      "metadata": {
        "id": "view-in-github",
        "colab_type": "text"
      },
      "source": [
        "<a href=\"https://colab.research.google.com/github/simsekergun/DATA601/blob/main/Project2/DATA601_Project2.ipynb\" target=\"_parent\"><img src=\"https://colab.research.google.com/assets/colab-badge.svg\" alt=\"Open In Colab\"/></a>"
      ]
    },
    {
      "cell_type": "markdown",
      "metadata": {
        "id": "e9c9c488-f088-4c9f-88c1-456387d6d39f"
      },
      "source": [
        "## DATA 601 Project-2\n",
        "Due date: May 19, 2022. 23:59 pm.<br>\n",
        "Groups will be determined at the April 29 class. <br>\n",
        "<br>\n",
        "\n",
        "For your second project, you will be working on the flights dataset that we used earlier. <br>\n",
        "We have 5 csv files and 5 Excel files. You can learn more about the content of the csv files at <br>\n",
        "https://cran.r-project.org/web/packages/nycflights13/nycflights13.pdf\n",
        "<br>\n",
        "<br>\n",
        "<b> FILES (https://github.com/simsekergun/DATA601/tree/main/Project2/datasets) </b>\n",
        "* flights2DCMDVA.xlsx (Note that this is a smaller version of the original NYCflights13.csv data) <br>\n",
        "* airlines.csv <br>\n",
        "* airports.csv <br>\n",
        "* planes.csv <br>\n",
        "* weatherNYhourly.csv (NY daily weather)<br>\n",
        "* weatherMDdaily.xlsx (MD daily temperature/precip/snow data) <br>\n",
        "* weatherNYdaily.xlsx (NY daily temperature/precip/snow data) <br>\n",
        "* federal-holidays-2013.xlsx <br>\n",
        "* flights_test_data.xlsx (only needed for Q4 and Q5)<br>"
      ],
      "id": "e9c9c488-f088-4c9f-88c1-456387d6d39f"
    },
    {
      "cell_type": "markdown",
      "metadata": {
        "id": "52e9209a-dc87-409c-b7cb-684e7c09b795"
      },
      "source": [
        "We are only interested in flights from NY to three local airports:\n",
        "* IAD: Dulles International Airport\n",
        "* BWI: Baltimore/Washington International Thurgood Marshall Airport\n",
        "* DCA: Ronald Reagan Washington National Airport"
      ],
      "id": "52e9209a-dc87-409c-b7cb-684e7c09b795"
    },
    {
      "cell_type": "markdown",
      "metadata": {
        "id": "0551513f-58a4-4412-b87f-8db1db0e8290"
      },
      "source": [
        "After carrying out EAD, please work on the following questions. You will need to submit your notebook and report (as a pdf file). <br> \n",
        "The report should include\n",
        "* Names of the students, Title of the project (e.g. DATA 601 | Project 2| NY-DC/MD/VA Flights), and date\n",
        "* A brief introduction\n",
        "* Clear answers to the questions. Make sure that you have enough number of images with proper figure captions and numbering."
      ],
      "id": "0551513f-58a4-4412-b87f-8db1db0e8290"
    },
    {
      "cell_type": "markdown",
      "metadata": {
        "id": "7ef2a0a4-56f1-4907-8087-ffb1965cbee1"
      },
      "source": [
        "Answer the following questions or complete the tasks <br>\n",
        "\n",
        "#### Question/Task 1\n",
        "a. Calculate the total number of seats for all the planned flights for each destination separately? <br>\n",
        "b. What is the day of the year with the highest number of flights? <br>\n",
        "c. What is the day of the year with the highest number of seats available on that day? <br>\n",
        "\n",
        "#### Question/Task 2\n",
        "a. What day of the year most cancellations happened? <br>\n",
        "b. Is there any relationship between the weather datasets and cancellations? If yes, describe it and justify with a statistical model (hypothesis testing).<br>\n",
        "c. Is there any relationship between the Federal Holiday Schedule and cancellations? If yes, describe it and justify with a statistical model (hypothesis testing).<br>\n",
        "d. What is the total number of seats for the cancelled flights? If we assume the average flight price of $50, what is the total economis loss?<br>\n",
        "e. Determine the ratio of cancelled flights/planned flights for each airline company, list it, and determine the most and least reliable airline company (most reliable = the one that has the smallest ratio of cancelled/planned)<br>\n",
        "\n",
        "\n",
        "For the next group of questions/tasks, do not include the cancelled flights.\n",
        "\n",
        "#### Question/Task 3\n",
        "a. Calculate the average arrival delay for all the flights that took place in the same day and plot it (x = 1:365, y = daily average delay). On the same plot, please mark the Federal Holidays from the federal-holidays-2013.xlsx dataset.<br>\n",
        "b. Is there a correlation between the weather datasets and daily average arrival delay? Justify your answer with a statistical model (hypothesis testing)<br>\n",
        "c. Is there a correlation between the Federal Holiday Schedule and daily average arrival delay?<br>\n",
        "d. Calculate the average arrival delay for all the flights for each arrival airport (e.g. IAD, DCA, and BWI) and determine most and least reliables (most reliable = the one that has the shortest average delay)<br>\n",
        "e. Calculate the average arrival delay for all the airlines and determine most and least reliables (most reliable = the one that has the shortest average delay) <br>\n",
        "f. What day of the week we had the highest average delay?<br>\n",
        "g. Which one had a higher average delay: flights that took off in the morning (6 am to 10 am), noon (11 am to 2 pm), afternoon (3 pm to 5pm), or evening (6 pm to 10 pm)?<br>\n",
        "h. Determine the number of airplanes used in these flights manufactured by BOEING, EMBRAER, and AURBUS separately. <br>\n",
        "<br>\n",
        "\n",
        "#### Question/Task 4\n",
        "Build a linear regression model to estimate the arrival delay of the flights given in \"fligts_test_data.xlsx\". Note that you have the full autorithy to decide what columns, what datasets (among the given datasets) to work with. In your report, please explain how you build the LR model and eloborate on its accuracy. \n",
        "\n",
        "#### Question/Task 5\n",
        "Build a logistic regression model to guess the 3 cancelled flights given in \"fligts_test_data.xlsx\". Again, you have the full autorithy to decide what columns, what datasets (among the given datasets) to work with. In your report, please explain how you build the LogReg model and eloborate on its accuracy."
      ],
      "id": "7ef2a0a4-56f1-4907-8087-ffb1965cbee1"
    },
    {
      "cell_type": "markdown",
      "metadata": {
        "id": "98d35982-92a8-4c6c-b0e2-00a660d2f85c"
      },
      "source": [
        ""
      ],
      "id": "98d35982-92a8-4c6c-b0e2-00a660d2f85c"
    },
    {
      "cell_type": "markdown",
      "metadata": {
        "id": "215e798e-6910-472d-8e1d-cdc53de3fa6d"
      },
      "source": [
        ""
      ],
      "id": "215e798e-6910-472d-8e1d-cdc53de3fa6d"
    }
  ]
}